{
 "cells": [
  {
   "cell_type": "markdown",
   "id": "4b3d4e0c",
   "metadata": {},
   "source": [
    "Bước A — Chuẩn bị DB (nhanh nhất với SQLite)"
   ]
  },
  {
   "cell_type": "code",
   "execution_count": 1,
   "id": "6a07e664",
   "metadata": {},
   "outputs": [
    {
     "data": {
      "text/plain": [
       "73100"
      ]
     },
     "execution_count": 1,
     "metadata": {},
     "output_type": "execute_result"
    }
   ],
   "source": [
    "import pandas as pd\n",
    "from sqlalchemy import create_engine\n",
    "\n",
    "# 1) Nạp CSV\n",
    "df = pd.read_csv(\"retail_store_inventory.csv\")\n",
    "\n",
    "# 2) Tạo SQLite & ghi bảng\n",
    "engine = create_engine(\"sqlite:///inventory.db\")\n",
    "df.to_sql(\"inventory\", engine, if_exists=\"replace\", index=False)\n"
   ]
  },
  {
   "cell_type": "markdown",
   "id": "620090e1",
   "metadata": {},
   "source": [
    "Bước B — Kết nối SQLDatabase (LangChain)"
   ]
  },
  {
   "cell_type": "code",
   "execution_count": 2,
   "id": "a10ea490",
   "metadata": {},
   "outputs": [
    {
     "name": "stdout",
     "output_type": "stream",
     "text": [
      "['inventory']\n",
      "\n",
      "CREATE TABLE inventory (\n",
      "\t\"Date\" TEXT, \n",
      "\t\"Store ID\" TEXT, \n",
      "\t\"Product ID\" TEXT, \n",
      "\t\"Category\" TEXT, \n",
      "\t\"Region\" TEXT, \n",
      "\t\"Inventory Level\" BIGINT, \n",
      "\t\"Units Sold\" BIGINT, \n",
      "\t\"Units Ordered\" BIGINT, \n",
      "\t\"Demand Forecast\" FLOAT, \n",
      "\t\"Price\" FLOAT, \n",
      "\t\"Discount\" BIGINT, \n",
      "\t\"Weather Condition\" TEXT, \n",
      "\t\"Holiday/Promotion\" BIGINT, \n",
      "\t\"Competitor Pricing\" FLOAT, \n",
      "\t\"Seasonality\" TEXT\n",
      ")\n",
      "\n",
      "/*\n",
      "3 rows from inventory table:\n",
      "Date\tStore ID\tProduct ID\tCategory\tRegion\tInventory Level\tUnits Sold\tUnits Ordered\tDemand Forecast\tPrice\tDiscount\tWeather Condition\tHoliday/Promotion\tCompetitor Pricing\tSeasonality\n",
      "2022-01-01\tS001\tP0001\tGroceries\tNorth\t231\t127\t55\t135.47\t33.5\t20\tRainy\t0\t29.69\tAutumn\n",
      "2022-01-01\tS001\tP0002\tToys\tSouth\t204\t150\t66\t144.04\t63.01\t20\tSunny\t0\t66.16\tAutumn\n",
      "2022-01-01\tS001\tP0003\tToys\tWest\t102\t65\t51\t74.02\t27.99\t10\tSunny\t1\t31.32\tSummer\n",
      "*/\n"
     ]
    }
   ],
   "source": [
    "from langchain_community.utilities import SQLDatabase\n",
    "\n",
    "db = SQLDatabase.from_uri(\"sqlite:///inventory.db\")\n",
    "print(db.get_usable_table_names())   # -> {'inventory'}\n",
    "print(db.get_table_info([\"inventory\"])) # xem schema để LLM dùng\n"
   ]
  },
  {
   "cell_type": "code",
   "execution_count": 3,
   "id": "4ae556ce",
   "metadata": {},
   "outputs": [],
   "source": [
    "# thêm OPENAI_API_KEY vào biến môi trường trước khi chạy\n",
    "OPENROUTER_API_KEY=\"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\"  # dán API key OpenRouter thật vào đây\n",
    "import os\n",
    "os.environ[\"OPENAI_API_KEY\"] = OPENROUTER_API_KEY"
   ]
  },
  {
   "cell_type": "code",
   "execution_count": 23,
   "id": "658e5082",
   "metadata": {},
   "outputs": [
    {
     "name": "stderr",
     "output_type": "stream",
     "text": [
      "c:\\Users\\Admin\\AppData\\Local\\Programs\\Python\\Python313\\Lib\\site-packages\\langsmith\\client.py:272: LangSmithMissingAPIKeyWarning: API key must be provided when using hosted LangSmith API\n",
      "  warnings.warn(\n"
     ]
    },
    {
     "name": "stdout",
     "output_type": "stream",
     "text": [
      "\n",
      "\n",
      "\u001b[1m> Entering new AgentExecutor chain...\u001b[0m\n",
      "\u001b[32;1m\u001b[1;3m\n",
      "I need to find the top 5 categories with the highest total units sold across the entire system. This requires querying the database to sum the 'Units Sold' for each category and then ordering the results in descending order, finally limiting the output to the top 5.\n",
      "\n",
      "Action: sql_db_query\n",
      "Action Input: \"SELECT Category, SUM(Units_Sold) AS TotalUnitsSold FROM Sales GROUP BY Category ORDER BY TotalUnitsSold DESC LIMIT 5;\"\u001b[0m\u001b[36;1m\u001b[1;3mError: (sqlite3.OperationalError) no such table: Sales\n",
      "[SQL: SELECT Category, SUM(Units_Sold) AS TotalUnitsSold FROM Sales GROUP BY Category ORDER BY TotalUnitsSold DESC LIMIT 5;]\n",
      "(Background on this error at: https://sqlalche.me/e/20/e3q8)\u001b[0m\u001b[32;1m\u001b[1;3mThe error indicates that the table 'Sales' does not exist. I need to list the tables in the database to identify the correct table name.\n",
      "\n",
      "Action: sql_db_list_tables\n",
      "Action Input: \"\"\u001b[0m\u001b[38;5;200m\u001b[1;3minventory\u001b[0m\u001b[32;1m\u001b[1;3m\n",
      "The database contains only one table named 'inventory'. I need to examine the schema of the 'inventory' table to see if it contains the necessary columns ('Category' and 'Units_Sold').\n",
      "\n",
      "Action: sql_db_schema\n",
      "Action Input: \"inventory\"\u001b[0m\u001b[33;1m\u001b[1;3m\n",
      "CREATE TABLE inventory (\n",
      "\t\"Date\" TEXT, \n",
      "\t\"Store ID\" TEXT, \n",
      "\t\"Product ID\" TEXT, \n",
      "\t\"Category\" TEXT, \n",
      "\t\"Region\" TEXT, \n",
      "\t\"Inventory Level\" BIGINT, \n",
      "\t\"Units Sold\" BIGINT, \n",
      "\t\"Units Ordered\" BIGINT, \n",
      "\t\"Demand Forecast\" FLOAT, \n",
      "\t\"Price\" FLOAT, \n",
      "\t\"Discount\" BIGINT, \n",
      "\t\"Weather Condition\" TEXT, \n",
      "\t\"Holiday/Promotion\" BIGINT, \n",
      "\t\"Competitor Pricing\" FLOAT, \n",
      "\t\"Seasonality\" TEXT\n",
      ")\n",
      "\n",
      "/*\n",
      "3 rows from inventory table:\n",
      "Date\tStore ID\tProduct ID\tCategory\tRegion\tInventory Level\tUnits Sold\tUnits Ordered\tDemand Forecast\tPrice\tDiscount\tWeather Condition\tHoliday/Promotion\tCompetitor Pricing\tSeasonality\n",
      "2022-01-01\tS001\tP0001\tGroceries\tNorth\t231\t127\t55\t135.47\t33.5\t20\tRainy\t0\t29.69\tAutumn\n",
      "2022-01-01\tS001\tP0002\tToys\tSouth\t204\t150\t66\t144.04\t63.01\t20\tSunny\t0\t66.16\tAutumn\n",
      "2022-01-01\tS001\tP0003\tToys\tWest\t102\t65\t51\t74.02\t27.99\t10\tSunny\t1\t31.32\tSummer\n",
      "*/\u001b[0m\u001b[32;1m\u001b[1;3mThe table name is 'inventory', and it contains the columns 'Category' and 'Units Sold'. Now I can construct the correct SQL query.\n",
      "\n",
      "Action: sql_db_query\n",
      "Action Input: \"SELECT Category, SUM(Units_Sold) AS TotalUnitsSold FROM inventory GROUP BY Category ORDER BY TotalUnitsSold DESC LIMIT 5;\"\u001b[0m\u001b[36;1m\u001b[1;3mError: (sqlite3.OperationalError) no such column: Units_Sold\n",
      "[SQL: SELECT Category, SUM(Units_Sold) AS TotalUnitsSold FROM inventory GROUP BY Category ORDER BY TotalUnitsSold DESC LIMIT 5;]\n",
      "(Background on this error at: https://sqlalche.me/e/20/e3q8)\u001b[0mError code: 429 - {'error': {'message': 'Rate limit exceeded: free-models-per-day. Add 10 credits to unlock 1000 free model requests per day', 'code': 429, 'metadata': {'headers': {'X-RateLimit-Limit': '50', 'X-RateLimit-Remaining': '0', 'X-RateLimit-Reset': '1757289600000'}, 'provider_name': None}}, 'user_id': 'user_30LvppLsUkAMB4Co4id1X92oFwh'}\n"
     ]
    }
   ],
   "source": [
    "import os\n",
    "from langchain_openai import ChatOpenAI\n",
    "from langchain_community.utilities import SQLDatabase\n",
    "from langchain_community.tools.sql_database.tool import (\n",
    "    QuerySQLDataBaseTool, InfoSQLDatabaseTool, ListSQLDatabaseTool\n",
    ")\n",
    "from langchain.agents import create_react_agent, AgentExecutor\n",
    "from langchain import hub\n",
    "\n",
    "db = SQLDatabase.from_uri(\"sqlite:///inventory.db\")\n",
    "\n",
    "tools = [\n",
    "    QuerySQLDataBaseTool(db=db),\n",
    "    InfoSQLDatabaseTool(db=db),\n",
    "    ListSQLDatabaseTool(db=db),\n",
    "]\n",
    "\n",
    "llm = ChatOpenAI(\n",
    "    # model=\"openai/gpt-oss-20b:free\",  # hoặc openai/gpt-oss-20b:pro\n",
    "    model=\"google/gemma-3-12b-it:free\",                 # hoặc deepseek/deepseek-chat:free\n",
    "    openai_api_base=\"https://openrouter.ai/api/v1\",\n",
    "    api_key=os.getenv(\"OPENROUTER_API_KEY\"),\n",
    "    temperature=0,\n",
    ")\n",
    "\n",
    "prompt = hub.pull(\"hwchase17/react\")               # prompt ReAct chuẩn\n",
    "\n",
    "react_agent = create_react_agent(llm, tools, prompt)\n",
    "executor = AgentExecutor(agent=react_agent, tools=tools, verbose=True)\n",
    "\n",
    "try:\n",
    "    print(executor.invoke({\"input\": \"Top 5 Category có Units Sold cao nhất toàn hệ thống?\"}))\n",
    "except Exception as e:\n",
    "    print(e)\n"
   ]
  }
 ],
 "metadata": {
  "kernelspec": {
   "display_name": "Python 3",
   "language": "python",
   "name": "python3"
  },
  "language_info": {
   "codemirror_mode": {
    "name": "ipython",
    "version": 3
   },
   "file_extension": ".py",
   "mimetype": "text/x-python",
   "name": "python",
   "nbconvert_exporter": "python",
   "pygments_lexer": "ipython3",
   "version": "3.13.5"
  }
 },
 "nbformat": 4,
 "nbformat_minor": 5
}
